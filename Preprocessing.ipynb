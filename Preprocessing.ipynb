{
 "cells": [
  {
   "cell_type": "code",
   "execution_count": 1,
   "id": "f741b0ab-46b5-47d3-a8df-e2063467ec08",
   "metadata": {},
   "outputs": [],
   "source": [
    "import os\n",
    "import json\n",
    "import numpy as np\n",
    "import time\n",
    "from tqdm.notebook import tqdm"
   ]
  },
  {
   "cell_type": "code",
   "execution_count": 2,
   "id": "ec9f349f-3372-4b2a-8808-875187568eab",
   "metadata": {},
   "outputs": [],
   "source": [
    "data_path = \"./Data/wikihow\""
   ]
  },
  {
   "cell_type": "code",
   "execution_count": 3,
   "id": "f0118195-f159-4210-b127-465ad4cad82b",
   "metadata": {},
   "outputs": [
    {
     "data": {
      "application/vnd.jupyter.widget-view+json": {
       "model_id": "2c737103db014ee8ba639d5aef324496",
       "version_major": 2,
       "version_minor": 0
      },
      "text/plain": [
       "  0%|          | 0/38 [00:00<?, ?it/s]"
      ]
     },
     "metadata": {},
     "output_type": "display_data"
    }
   ],
   "source": [
    "def gen_datasets(dir_path,max_length):\n",
    "    \n",
    "    file_list = os.listdir(dir_path)\n",
    "\n",
    "    data_dict = combine_data(dir_path,file_list,max_length)\n",
    "    \n",
    "    return data_dict\n",
    "    \n",
    "def combine_data(dir_path,file_list, max_length):\n",
    "    \n",
    "    temp_dict = {'train': [],\n",
    "            'val': [],\n",
    "            'test': [],\n",
    "            'max_length': max_length}\n",
    "    \n",
    "    for file_name in tqdm(file_list):\n",
    "        with open(os.path.join(dir_path,file_name), \"r\") as tempfile:\n",
    "            json_file = json.load(tempfile)\n",
    "            for example in json_file:\n",
    "                if len(example['src']) <= max_length:\n",
    "                    if sum(example['labels']) > 0: #Get rid of examples without summaries\n",
    "                        sentences = example['src']\n",
    "                        sentences = [' '.join(tkn for tkn in sent).strip() for sent in sentences]\n",
    "\n",
    "                        labels = example['labels']\n",
    "\n",
    "                        if 'train' in file_name:\n",
    "                            temp_dict['train'].append([sentences,labels])\n",
    "\n",
    "                        elif 'val' in file_name:\n",
    "                            temp_dict['val'].append([sentences,labels])\n",
    "\n",
    "                        elif 'test' in file_name:\n",
    "                            temp_dict['test'].append([sentences,labels,example['tgt']])\n",
    "\n",
    "    return temp_dict\n",
    "\n",
    "dataset = gen_datasets(data_path,80)                                        "
   ]
  },
  {
   "cell_type": "code",
   "execution_count": null,
   "id": "fba9ea0b-fba8-4608-b8b8-5f23daa4df1a",
   "metadata": {},
   "outputs": [],
   "source": [
    "for pair in dataset['test']:\n",
    "    \n",
    "    print(pair[0])\n",
    "    print(pair[1])\n",
    "    print(pair[2])\n",
    "    break"
   ]
  },
  {
   "cell_type": "code",
   "execution_count": 4,
   "id": "055a8c7d-4d85-46d4-b813-1394e3bb06b8",
   "metadata": {},
   "outputs": [
    {
     "name": "stdout",
     "output_type": "stream",
     "text": [
      "154875\n",
      "5543\n",
      "5502\n",
      "80\n"
     ]
    }
   ],
   "source": [
    "print(len(dataset['train']))\n",
    "print(len(dataset['val']))\n",
    "print(len(dataset['test']))\n",
    "print(dataset['max_length'])"
   ]
  },
  {
   "cell_type": "code",
   "execution_count": 9,
   "id": "c79b000c-44b0-4a0b-9f12-67df960fea8f",
   "metadata": {},
   "outputs": [
    {
     "name": "stdout",
     "output_type": "stream",
     "text": [
      "Time Taken: 12.950342893600464\n"
     ]
    }
   ],
   "source": [
    "#Saving the dataset\n",
    "start = time.time()\n",
    "\n",
    "with open(\"wikihow_trimmed.json\",\"w\",encoding='utf8') as data_file:\n",
    "    json.dump(dataset,data_file,ensure_ascii=False)\n",
    "    \n",
    "print(f\"Time Taken: {time.time() - start}\")"
   ]
  },
  {
   "cell_type": "code",
   "execution_count": 24,
   "id": "cecfe618-1181-43f0-a3b9-bbfeb59292e1",
   "metadata": {},
   "outputs": [
    {
     "name": "stdout",
     "output_type": "stream",
     "text": [
      "154875\n",
      "0.9296441691277102\n"
     ]
    }
   ],
   "source": [
    "num_para = 0\n",
    "for para in dataset['train_sents']:\n",
    "    if len(para) <= 80:\n",
    "        num_para += 1\n",
    "\n",
    "print(num_para)\n",
    "print(num_para/len(dataset['train_sents']))"
   ]
  }
 ],
 "metadata": {
  "kernelspec": {
   "display_name": "Python 3 (ipykernel)",
   "language": "python",
   "name": "python3"
  },
  "language_info": {
   "codemirror_mode": {
    "name": "ipython",
    "version": 3
   },
   "file_extension": ".py",
   "mimetype": "text/x-python",
   "name": "python",
   "nbconvert_exporter": "python",
   "pygments_lexer": "ipython3",
   "version": "3.8.12"
  }
 },
 "nbformat": 4,
 "nbformat_minor": 5
}
